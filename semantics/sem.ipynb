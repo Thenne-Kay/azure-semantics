{
 "cells": [
  {
   "cell_type": "code",
   "execution_count": 15,
   "metadata": {},
   "outputs": [],
   "source": [
    "import os\n",
    "from dotenv import load_dotenv\n",
    "from azure.ai.textanalytics import TextAnalyticsClient\n",
    "from azure.core.credentials import AzureKeyCredential\n"
   ]
  },
  {
   "cell_type": "code",
   "execution_count": 16,
   "metadata": {},
   "outputs": [],
   "source": [
    "from azure.ai.textanalytics import (\n",
    "    AnalyzeSentimentAction,\n",
    "    ExtractKeyPhrasesAction,  # <-- Note the spelling: \"ExtractKeyPhrasesAction\" (with a \"z\")\n",
    "    RecognizeEntitiesAction,\n",
    ")"
   ]
  },
  {
   "cell_type": "code",
   "execution_count": 17,
   "metadata": {},
   "outputs": [],
   "source": [
    "# Load environment variables\n",
    "load_dotenv()\n",
    "key = os.getenv(\"TEXT_ANALYTICS_KEY\")\n",
    "endpoint = os.getenv(\"TEXT_ANALYTICS_ENDPOINT\")\n"
   ]
  },
  {
   "cell_type": "code",
   "execution_count": 18,
   "metadata": {},
   "outputs": [],
   "source": [
    "# Authenticate client\n",
    "credential = AzureKeyCredential(key)\n",
    "client = TextAnalyticsClient(endpoint=endpoint, credential=credential)\n"
   ]
  },
  {
   "cell_type": "code",
   "execution_count": 19,
   "metadata": {},
   "outputs": [
    {
     "name": "stdout",
     "output_type": "stream",
     "text": [
      "Sentiment: positive\n",
      "Confidence Scores: {'positive': 1.0, 'neutral': 0.0, 'negative': 0.0}\n",
      "Sentiment: positive\n",
      "Confidence Scores: {'positive': 0.97, 'neutral': 0.02, 'negative': 0.01}\n",
      "Sentiment: negative\n",
      "Confidence Scores: {'positive': 0.0, 'neutral': 0.02, 'negative': 0.98}\n",
      "Sentiment: positive\n",
      "Confidence Scores: {'positive': 0.93, 'neutral': 0.07, 'negative': 0.01}\n",
      "Sentiment: neutral\n",
      "Confidence Scores: {'positive': 0.05, 'neutral': 0.85, 'negative': 0.1}\n"
     ]
    }
   ],
   "source": [
    "# Example: Sentiment Analysis\n",
    "documents = [\"I love Azure Text Analytics! It's fantastic.\",\"good lord!\",\"azure is too hard a name\",\"azure get the job done\",\"azure is meh\"]\n",
    "\n",
    "try:\n",
    "    response = client.analyze_sentiment(documents=documents)\n",
    "    for doc in response:\n",
    "        print(f\"Sentiment: {doc.sentiment}\")\n",
    "        print(f\"Confidence Scores: {doc.confidence_scores}\")\n",
    "except Exception as e:\n",
    "    print(f\"Error: {e}\")"
   ]
  },
  {
   "cell_type": "code",
   "execution_count": 24,
   "metadata": {},
   "outputs": [
    {
     "name": "stdout",
     "output_type": "stream",
     "text": [
      "Sentiment: negative\n",
      "Confidence Scores: {'positive': 0.01, 'neutral': 0.04, 'negative': 0.96}\n",
      "Key Phrases: ['Contoso Restaurant', 'food', 'service']\n",
      "Entities: ['Contoso Restaurant']\n"
     ]
    }
   ],
   "source": [
    "# Combined Analysis (Sentiment + Key Phrases + Entities)\n",
    "documents = [\"The food at Contoso Restaurant was delicious, but the service was slow.\"]\n",
    "\n",
    "try:\n",
    "    poller = client.begin_analyze_actions(\n",
    "        documents=documents,\n",
    "        actions=[\n",
    "            AnalyzeSentimentAction(),  # Use action objects (not strings)\n",
    "            ExtractKeyPhrasesAction(),  # <-- Corrected class name\n",
    "            RecognizeEntitiesAction(),\n",
    "        ],\n",
    "    )\n",
    "    results = poller.result()\n",
    "\n",
    "    for result in results:\n",
    "        for action in result:\n",
    "            if action.kind == \"SentimentAnalysis\":\n",
    "                # Access sentiment directly from action\n",
    "                print(f\"Sentiment: {action.sentiment}\")\n",
    "                print(f\"Confidence Scores: {action.confidence_scores}\")\n",
    "            \n",
    "            elif action.kind == \"KeyPhraseExtraction\":\n",
    "                # Access key phrases directly\n",
    "                print(f\"Key Phrases: {action.key_phrases}\")\n",
    "            \n",
    "            elif action.kind == \"EntityRecognition\":\n",
    "                # Access entities directly\n",
    "                print(f\"Entities: {[entity.text for entity in action.entities]}\")\n",
    "\n",
    "except Exception as e:\n",
    "    print(f\"Error: {e}\")"
   ]
  }
 ],
 "metadata": {
  "kernelspec": {
   "display_name": "Python 3",
   "language": "python",
   "name": "python3"
  },
  "language_info": {
   "codemirror_mode": {
    "name": "ipython",
    "version": 3
   },
   "file_extension": ".py",
   "mimetype": "text/x-python",
   "name": "python",
   "nbconvert_exporter": "python",
   "pygments_lexer": "ipython3",
   "version": "3.11.2"
  }
 },
 "nbformat": 4,
 "nbformat_minor": 2
}
