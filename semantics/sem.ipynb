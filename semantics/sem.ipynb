{
 "cells": [
  {
   "cell_type": "code",
   "execution_count": 34,
   "metadata": {},
   "outputs": [],
   "source": [
    "import os\n",
    "from dotenv import load_dotenv\n",
    "from azure.ai.textanalytics import TextAnalyticsClient as tac\n",
    "from azure.core.credentials import AzureKeyCredential\n"
   ]
  },
  {
   "cell_type": "code",
   "execution_count": 41,
   "metadata": {},
   "outputs": [],
   "source": [
    "from azure.ai.textanalytics import (\n",
    "    AnalyzeSentimentAction,\n",
    "    ExtractKeyPhrasesAction,\n",
    "    RecognizeEntitiesAction,\n",
    ")"
   ]
  },
  {
   "cell_type": "code",
   "execution_count": 42,
   "metadata": {},
   "outputs": [],
   "source": [
    "# Load environment variables\n",
    "load_dotenv()\n",
    "key = os.getenv(\"TEXT_ANALYTICS_KEY\")\n",
    "endpoint = os.getenv(\"TEXT_ANALYTICS_ENDPOINT\")\n"
   ]
  },
  {
   "cell_type": "code",
   "execution_count": 43,
   "metadata": {},
   "outputs": [],
   "source": [
    "# Authenticate client\n",
    "credential = AzureKeyCredential(key)\n",
    "client = tac(endpoint=endpoint, credential=credential)\n"
   ]
  },
  {
   "cell_type": "code",
   "execution_count": 51,
   "metadata": {},
   "outputs": [
    {
     "name": "stdout",
     "output_type": "stream",
     "text": [
      "Sentiment: positive\n",
      "Confidence Scores: {'positive': 1.0, 'neutral': 0.0, 'negative': 0.0}\n",
      "Sentiment: positive\n",
      "Confidence Scores: {'positive': 0.97, 'neutral': 0.02, 'negative': 0.01}\n",
      "Sentiment: negative\n",
      "Confidence Scores: {'positive': 0.0, 'neutral': 0.02, 'negative': 0.98}\n",
      "Sentiment: positive\n",
      "Confidence Scores: {'positive': 0.93, 'neutral': 0.07, 'negative': 0.01}\n",
      "Sentiment: neutral\n",
      "Confidence Scores: {'positive': 0.05, 'neutral': 0.85, 'negative': 0.1}\n",
      "Sentiment: neutral\n",
      "Confidence Scores: {'positive': 0.03, 'neutral': 0.95, 'negative': 0.01}\n",
      "Sentiment: positive\n",
      "Confidence Scores: {'positive': 0.48, 'neutral': 0.43, 'negative': 0.09}\n"
     ]
    }
   ],
   "source": [
    "# Example: Sentiment Analysis\n",
    "documents = [\"I love Azure Text Analytics! It's fantastic.\",\n",
    "             \"good lord!\",\"azure is too hard a name\",\"azure get the job done\",\n",
    "             \"azure is meh\",\n",
    "             \"three muskersteeres, or three technocrats ha!\",\n",
    "             \"oh well,\"\n",
    "             ]\n",
    "\n",
    "try:\n",
    "    response = client.analyze_sentiment(documents=documents)\n",
    "    for doc in response:\n",
    "        print(f\"Sentiment: {doc.sentiment}\")\n",
    "        print(f\"Confidence Scores: {doc.confidence_scores}\")\n",
    "except Exception as e:\n",
    "    print(f\"Error: {e}\")"
   ]
  },
  {
   "cell_type": "code",
   "execution_count": 49,
   "metadata": {},
   "outputs": [
    {
     "name": "stdout",
     "output_type": "stream",
     "text": [
      "Sentiment: neutral\n",
      "Confidence Scores: {'positive': 0.12, 'neutral': 0.71, 'negative': 0.17}\n",
      "Key Phrases: ['Azure project', 'microsoft fabric', 'Monday']\n",
      "Entities: ['Azure', 'by Monday']\n"
     ]
    }
   ],
   "source": [
    "# Combined Analysis (Sentiment + Key Phrases + Entities)\n",
    "documents = [\"Maybe we need to choose which Azure project to proceed with by Monday, what is microsoft fabric?! \"]\n",
    "\n",
    "try:\n",
    "    poller = client.begin_analyze_actions(\n",
    "        documents=documents,\n",
    "        actions=[\n",
    "            AnalyzeSentimentAction(), \n",
    "            ExtractKeyPhrasesAction(), \n",
    "            RecognizeEntitiesAction(),\n",
    "        ],\n",
    "    )\n",
    "    results = poller.result()\n",
    "\n",
    "    for result in results:\n",
    "        for action in result:\n",
    "            if action.kind == \"SentimentAnalysis\":\n",
    "                # Access sentiment directly from action\n",
    "                print(f\"Sentiment: {action.sentiment}\")\n",
    "                print(f\"Confidence Scores: {action.confidence_scores}\")\n",
    "            \n",
    "            elif action.kind == \"KeyPhraseExtraction\":\n",
    "                # Access key phrases directly\n",
    "                print(f\"Key Phrases: {action.key_phrases}\")\n",
    "            \n",
    "            elif action.kind == \"EntityRecognition\":\n",
    "                # Access entities directly\n",
    "                print(f\"Entities: {[entity.text for entity in action.entities]}\")\n",
    "\n",
    "except Exception as e:\n",
    "    print(f\"Error: {e}\")"
   ]
  }
 ],
 "metadata": {
  "kernelspec": {
   "display_name": "Python 3",
   "language": "python",
   "name": "python3"
  },
  "language_info": {
   "codemirror_mode": {
    "name": "ipython",
    "version": 3
   },
   "file_extension": ".py",
   "mimetype": "text/x-python",
   "name": "python",
   "nbconvert_exporter": "python",
   "pygments_lexer": "ipython3",
   "version": "3.11.2"
  }
 },
 "nbformat": 4,
 "nbformat_minor": 2
}
